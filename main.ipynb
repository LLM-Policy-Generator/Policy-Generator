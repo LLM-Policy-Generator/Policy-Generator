{
  "cells": [
    {
      "cell_type": "markdown",
      "source": [
        "# Policy Generator Notebook\n",
        "\n",
        "This notebook demonstrates the methodology for generating IDS-compliant policies as described in our conference paper. It is organized into the following sections:\n",
        "\n",
        "1. **Introduction & Setup**: Overview and required imports.\n",
        "2. **Data Preprocessing**: Loading and cleaning the data.\n",
        "3. **Model & Policy Generation**: Implementation of policy generation including API requests.\n",
        "4. **Results & Analysis**: Evaluation and visualization of the generated policies.\n",
        "5. **Conclusion**: Summary and directions for future work.\n",
        "\n",
        "_All sensitive details (e.g., API keys) have been removed or replaced with secure references._"
      ],
      "metadata": {
        "id": "CkkUsCt9o1bf"
      }
    },
    {
      "cell_type": "code",
      "source": [
        "# Setup: Import necessary libraries and configure environment\n",
        "\n",
        "import os\n",
        "import json\n",
        "import time\n",
        "import re\n",
        "import requests\n",
        "import numpy as np\n",
        "import pandas as pd\n",
        "import matplotlib.pyplot as plt\n",
        "\n",
        "# Set API keys via environment variables for security.\n",
        "AZURE_API_KEY = os.getenv('AZURE_API_KEY')  # Replace with your secure API key variable\n",
        "if not AZURE_API_KEY:\n",
        "    raise EnvironmentError(\"AZURE_API_KEY is not set in the environment variables.\")\n",
        "\n",
        "# Define endpoints (replace with your own if needed)\n",
        "AZURE_MODEL_URL = \"https://your-azure-endpoint.com/score\"\n",
        "\n",
        "# Additional configuration for reproducibility\n",
        "np.random.seed(42)\n",
        "print(\"Setup complete. Libraries imported and API key loaded securely.\")"
      ],
      "metadata": {
        "id": "qL5BYuGwqF-s"
      },
      "execution_count": null,
      "outputs": []
    },
    {
      "cell_type": "markdown",
      "source": [
        "## Data Preprocessing\n",
        "\n",
        "This section loads the dataset, cleans it, and prepares it for policy generation. The dataset is expected to be in CSV format with appropriate columns."
      ],
      "metadata": {
        "id": "KP3iW5l0ppET"
      }
    },
    {
      "cell_type": "code",
      "source": [
        "# Function to load and preprocess the dataset\n",
        "def load_data(filepath):\n",
        "    \"\"\"\n",
        "    Load dataset from a CSV file.\n",
        "\n",
        "    Parameters:\n",
        "    - filepath: str, path to the CSV file\n",
        "\n",
        "    Returns:\n",
        "    - pandas.DataFrame: Preprocessed data\n",
        "    \"\"\"\n",
        "    data = pd.read_csv(filepath)\n",
        "    # Data cleaning steps: remove duplicates and handle missing values.\n",
        "    data.drop_duplicates(inplace=True)\n",
        "    data.fillna(method='ffill', inplace=True)\n",
        "    return data\n",
        "\n",
        "# Update the filepath as needed\n",
        "data_filepath = 'data/policy_data.csv'\n",
        "data = load_data(data_filepath)\n",
        "print(f\"Data loaded and preprocessed. Shape: {data.shape}\")"
      ],
      "metadata": {
        "id": "M7Infe0JqWIa"
      },
      "execution_count": null,
      "outputs": []
    },
    {
      "cell_type": "markdown",
      "source": [
        "## Model & Policy Generation\n",
        "\n",
        "This section contains code that constructs and sends requests to the policy generation API. It uses system instructions combined with user-provided descriptions to generate policies that adhere to the IDS ontology."
      ],
      "metadata": {
        "id": "x3Kb-c_UqcAB"
      }
    },
    {
      "cell_type": "code",
      "source": [
        "# Define system messages and valid IDS ontology terms for generating policies\n",
        "valid_terms = [\"ids:leftOperand\", \"ids:rightOperand\", \"ids:operator\", \"ids:constraint\"]\n",
        "\n",
        "# Example policy structure (as reference)\n",
        "example_policy = {\n",
        "    \"policy\": {\n",
        "        \"id\": \"example-policy\",\n",
        "        \"permissions\": [\n",
        "            {\n",
        "                \"assignee\": \"example-user\",\n",
        "                \"action\": \"use\",\n",
        "                \"constraints\": [\n",
        "                    {\"leftOperand\": \"ids:purpose\", \"operator\": \"ids:eq\", \"rightOperand\": \"research\"}\n",
        "                ]\n",
        "            }\n",
        "        ]\n",
        "    }\n",
        "}\n",
        "\n",
        "# Optimized system messages to guide the API\n",
        "system_messages = [\n",
        "    \"You are an expert in International Data Spaces (IDS) policy creation.\",\n",
        "    \"Generate policies strictly aligned with the IDS ontology.\",\n",
        "    \"Use only the following defined terms: \" + \", \".join(valid_terms),\n",
        "    \"Refer to https://w3id.org/idsa/core/ for ontology definitions.\",\n",
        "    \"Here is an example policy:\",\n",
        "    json.dumps(example_policy, indent=4),\n",
        "    \"Return output as valid JSON without markdown or extra formatting.\"\n",
        "]\n",
        "\n",
        "# Combine system messages into a single context string\n",
        "context = \"\\n\".join(system_messages)\n",
        "print(\"System messages prepared.\")"
      ],
      "metadata": {
        "id": "y400JoZEqhDa"
      },
      "execution_count": null,
      "outputs": []
    },
    {
      "cell_type": "code",
      "source": [
        "def query_policy_api(prompt):\n",
        "    \"\"\"\n",
        "    Send a request to the policy generation API with the given prompt.\n",
        "\n",
        "    Parameters:\n",
        "    - prompt: str, the user-provided description for which to generate a policy\n",
        "\n",
        "    Returns:\n",
        "    - dict: The JSON response from the API as a dictionary\n",
        "    \"\"\"\n",
        "    headers = {\n",
        "        \"Content-Type\": \"application/json\",\n",
        "        \"Authorization\": f\"Bearer {AZURE_API_KEY}\"\n",
        "    }\n",
        "\n",
        "    # Create the full prompt by appending user input to the system context\n",
        "    full_prompt = f\"{context}\\n\\nUser: {prompt}\\nAssistant:\"\n",
        "\n",
        "    payload = {\n",
        "        \"input_data\": {\n",
        "            \"input_string\": [full_prompt],\n",
        "            \"parameters\": {\n",
        "                \"temperature\": 0.7,\n",
        "                \"top_p\": 0.95,\n",
        "                \"max_new_tokens\": 800\n",
        "            }\n",
        "        }\n",
        "    }\n",
        "\n",
        "    response = requests.post(AZURE_MODEL_URL, headers=headers, json=payload)\n",
        "    response.raise_for_status()  # Raise an error for any HTTP issues\n",
        "    response_json = response.json()\n",
        "\n",
        "    # Extract the generated policy from the API response\n",
        "    if isinstance(response_json, dict) and \"output\" in response_json:\n",
        "        output_text = response_json[\"output\"]\n",
        "        try:\n",
        "            # Try parsing the output directly as JSON\n",
        "            return json.loads(output_text)\n",
        "        except json.JSONDecodeError:\n",
        "            # Fallback: attempt cleaning the response text to extract JSON\n",
        "            cleaned_text = output_text.strip().replace(\"```\", \"\")\n",
        "            return json.loads(cleaned_text)\n",
        "    else:\n",
        "        raise ValueError(\"Unexpected API response format.\")\n",
        "\n",
        "# Example usage with a sample prompt\n",
        "sample_prompt = \"Generate an access control policy for research data sharing.\"\n",
        "policy_response = query_policy_api(sample_prompt)\n",
        "print(\"Policy generated:\")\n",
        "print(json.dumps(policy_response, indent=4))"
      ],
      "metadata": {
        "id": "dLdPOaKvqjHM"
      },
      "execution_count": null,
      "outputs": []
    },
    {
      "cell_type": "markdown",
      "source": [
        "## Policy Generation on Dataset\n",
        "\n",
        "This cell iterates through the dataset, generates a policy for each description, and saves the result back to the DataFrame."
      ],
      "metadata": {
        "id": "DD08SRGGqlkg"
      }
    },
    {
      "cell_type": "code",
      "source": [
        "# Ensure the DataFrame has a column for storing the generated policies.\n",
        "if 'Generated_Policy' not in data.columns:\n",
        "    data['Generated_Policy'] = None\n",
        "\n",
        "processed_count = 0\n",
        "wait_time = 60  # Time in seconds to wait between API calls to avoid rate limits\n",
        "\n",
        "# Iterate through each row and generate a policy for rows with valid descriptions\n",
        "for index, row in data.iterrows():\n",
        "    description = row.get('Policy', None)\n",
        "    if pd.notnull(description):\n",
        "        try:\n",
        "            policy = query_policy_api(description)\n",
        "            data.at[index, 'Generated_Policy'] = json.dumps(policy, indent=4)\n",
        "            print(f\"Policy generated for row {index}.\")\n",
        "        except Exception as e:\n",
        "            print(f\"Error generating policy for row {index}: {e}\")\n",
        "        processed_count += 1\n",
        "        time.sleep(wait_time)\n",
        "\n",
        "print(\"Sample of generated policies:\")\n",
        "print(data[['Policy', 'Generated_Policy']].head(10))\n",
        "\n",
        "# Optionally, save the DataFrame with generated policies to an Excel file.\n",
        "output_file_path = 'Generated_Policies.xlsx'\n",
        "data.to_excel(output_file_path, index=False)\n",
        "print(f\"Generated policies saved to {output_file_path}.\")"
      ],
      "metadata": {
        "id": "U4W1mW-cqnyM"
      },
      "execution_count": null,
      "outputs": []
    },
    {
      "cell_type": "markdown",
      "source": [
        "## Results & Analysis\n",
        "\n",
        "This section provides an evaluation of the generated policies. The following visualization shows the distribution of the target variable from the dataset."
      ],
      "metadata": {
        "id": "2G0vZ2e7qst6"
      }
    },
    {
      "cell_type": "code",
      "source": [
        "from sklearn.metrics import accuracy_score\n",
        "\n",
        "# Example: Evaluate model accuracy if applicable (this example uses a simple accuracy metric)\n",
        "def evaluate_model(model, test_set):\n",
        "    X_test, y_test = test_set\n",
        "    predictions = model.predict(X_test)\n",
        "    acc = accuracy_score(y_test, predictions)\n",
        "    return acc\n",
        "\n",
        "# In this context, we'll display a sample histogram from the dataset.\n",
        "plt.figure(figsize=(8, 6))\n",
        "plt.hist(data['Policy'].dropna(), bins=20, alpha=0.7)\n",
        "plt.title('Distribution of Descriptions')\n",
        "plt.xlabel('Description')\n",
        "plt.ylabel('Frequency')\n",
        "plt.show()"
      ],
      "metadata": {
        "id": "o37Q42eAqv3Y"
      },
      "execution_count": null,
      "outputs": []
    },
    {
      "cell_type": "markdown",
      "source": [
        "## Conclusion\n",
        "\n",
        "This notebook has been cleaned, organized, and documented for review. It details the process of data preprocessing, policy generation via an API, and subsequent analysis of the generated policies. Future work could involve refining the model, reducing API call wait times, or integrating more sophisticated policy validation."
      ],
      "metadata": {
        "id": "sVNaSMlJqywj"
      }
    }
  ],
  "metadata": {
    "language_info": {
      "name": "python"
    },
    "colab": {
      "provenance": []
    },
    "kernelspec": {
      "name": "python3",
      "display_name": "Python 3"
    }
  },
  "nbformat": 4,
  "nbformat_minor": 0
}